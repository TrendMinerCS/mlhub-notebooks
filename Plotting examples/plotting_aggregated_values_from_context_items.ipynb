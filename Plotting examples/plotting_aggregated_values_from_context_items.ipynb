{
 "cells": [
  {
   "cell_type": "markdown",
   "id": "26b457aee3682df",
   "metadata": {},
   "source": [
    "# Plotting aggregated values from context items\n",
    "The currently embedded sdk does not load all the properties/fields of context items of a ContextHub view. This workaround shows how to extract all properties/fields defined in a ContextHub view into a DataFrame by using API calls to retrieve the context items as a Pandas DataFrame. After getting the right context item fields we can use this data to plot it in a table or graph.\n",
    "As input for the function you will need to provide the ContextHub view ID, you can acquire it by following these steps:\n",
    "1. Click on the blue plus button on the top left of the screen, this will open a work organizer side window on the right.\n",
    "2. Select the ContextHub view you want to load and click on open.\n",
    "3. The ContextHub view is now available as a snippet in the left sidebar under, by clicking on it you will add it to the notebook.\n",
    "4. You can now copy the uuid of the ContextHub view and use it as input for the `fetch_context_items_by_view`function.\n"
   ]
  },
  {
   "cell_type": "code",
   "execution_count": 24,
   "id": "aa60328f",
   "metadata": {
    "trusted": true
   },
   "outputs": [],
   "source": [
    "import os\n",
    "import requests\n",
    "import pandas as pd\n",
    "from datetime import datetime\n",
    "import isodate\n",
    "\n",
    "def fetch_context_items_by_view(view_id: str) -> pd.DataFrame:\n",
    "    \"\"\"\n",
    "    Fetch all context items with all context fields defined by a saved Context-Hub view.\n",
    "\n",
    "    Parameters\n",
    "    ----------\n",
    "    view_id : str\n",
    "        UUID of the Context-Hub view whose filters you want to apply.\n",
    "\n",
    "    Returns\n",
    "    -------\n",
    "    pd.DataFrame\n",
    "        One row per context item, with columns:\n",
    "        - ``created`` : datetime parsed from ``createdDate``\n",
    "        - ``key``     : the ``shortKey`` of the item\n",
    "        - ``state``   : the last event state\n",
    "        - all additional ``fields`` flattened into individual columns\n",
    "    \"\"\"\n",
    "    # ensure environment variables\n",
    "    base = os.environ.get(\"KERNEL_SERVER_URL\")\n",
    "    token = os.environ.get(\"KERNEL_USER_TOKEN\")\n",
    "    if not base or not token:\n",
    "        raise EnvironmentError(\"KERNEL_SERVER_URL and KERNEL_USER_TOKEN must be set\")\n",
    "\n",
    "    # 1. fetch view filters\n",
    "    view_url = f\"{base}/context/view/{view_id}/enriched\"\n",
    "    headers = {\"Authorization\": f\"Bearer {token}\"}\n",
    "    resp = requests.get(view_url, headers=headers)\n",
    "    resp.raise_for_status()\n",
    "    filters = resp.json().get(\"data\", {}).get(\"filters\", [])\n",
    "    if not isinstance(filters, list):\n",
    "        raise ValueError(\"Unexpected view JSON: 'data.filters' missing or not a list\")\n",
    "\n",
    "    # 2. page through search results\n",
    "    search_url = f\"{base}/context/v2/item/search\"\n",
    "    headers[\"Content-Type\"] = \"application/json\"\n",
    "    payload = {\"filters\": filters, \"fetchSize\": 1000, \"continuationToken\": None}\n",
    "    items = []\n",
    "    while True:\n",
    "        r = requests.post(search_url, headers=headers, json=payload)\n",
    "        r.raise_for_status()\n",
    "        page = r.json()\n",
    "\n",
    "        content = page.get(\"content\", [])\n",
    "        if not content:\n",
    "            break\n",
    "\n",
    "        for it in content:\n",
    "            items.append({\n",
    "                \"created\": datetime.strptime(it[\"createdDate\"], \"%Y-%m-%dT%H:%M:%S.%fZ\"),\n",
    "                \"key\":     it[\"shortKey\"],\n",
    "                \"state\":   it[\"events\"][-1].get(\"state\"),\n",
    "                \"duration_hours\": isodate.parse_duration(it[\"totalDuration\"]).total_seconds()/3600.0,\n",
    "                **it.get(\"fields\", {})\n",
    "            })\n",
    "\n",
    "        token_next = page.get(\"page\", {}).get(\"continuationToken\")\n",
    "        payload[\"continuationToken\"] = token_next\n",
    "\n",
    "    return pd.DataFrame(items)"
   ]
  },
  {
   "cell_type": "code",
   "execution_count": 27,
   "id": "26a341ea461dbd77",
   "metadata": {
    "trusted": true
   },
   "outputs": [],
   "source": [
    "df = fetch_context_items_by_view(\"912ad2cd-9d48-45e9-b255-0f093a007ca4\")\n",
    "df"
   ]
  },
  {
   "cell_type": "code",
   "execution_count": 28,
   "id": "b67d18d9-0fcf-4cea-a411-a8596fae0342",
   "metadata": {
    "trusted": true
   },
   "outputs": [],
   "source": [
    "import pandas as pd\n",
    "import plotly.graph_objs as go\n",
    "\n",
    "# Example aggregation\n",
    "total_energy_kwh = round(df['Energy_kWh'].sum(), 2)\n",
    "avg_energy_kwh = round(df['Energy_kWh'].mean(), 2)\n",
    "avg_duration = round(df['duration_hours'].mean(), 2)\n",
    "num_events = df.shape[0]\n",
    "\n",
    "# Make aggregation summary DataFrame\n",
    "summary_df = pd.DataFrame({\n",
    "    \"Metric\": [\n",
    "        \"Sum Energy_kWh\",\n",
    "        \"Avg Energy_kWh\",\n",
    "        \"Avg Duration (hours)\",\n",
    "        \"Total Events\"\n",
    "    ],\n",
    "    \"Value\": [\n",
    "        total_energy_kwh,\n",
    "        avg_energy_kwh,\n",
    "        avg_duration,\n",
    "        num_events\n",
    "    ]\n",
    "})\n",
    "\n",
    "# Plotly Table\n",
    "fig = go.Figure(\n",
    "    data=[go.Table(\n",
    "        header=dict(values=list(summary_df.columns), fill_color='royalblue', align='left',font=dict(color=\"white\")),\n",
    "        cells=dict(values=[summary_df.Metric, summary_df.Value], fill_color='lavender', align='left'))\n",
    "    ]\n",
    ")\n",
    "\n",
    "fig.show()"
   ]
  },
  {
   "cell_type": "code",
   "execution_count": null,
   "id": "f1dc4397-783d-48c9-a27c-9883e11ea5c6",
   "metadata": {
    "trusted": true
   },
   "outputs": [],
   "source": []
  }
 ],
 "metadata": {
  "created_by": "fvandael",
  "kernelspec": {
   "display_name": "Python 3.11 on Kubernetes",
   "language": "python",
   "name": "python_311"
  },
  "language_info": {
   "codemirror_mode": {
    "name": "ipython",
    "version": 3
   },
   "file_extension": ".py",
   "mimetype": "text/x-python",
   "name": "python",
   "nbconvert_exporter": "python",
   "pygments_lexer": "ipython3",
   "version": "3.11.9"
  }
 },
 "nbformat": 4,
 "nbformat_minor": 5
}
