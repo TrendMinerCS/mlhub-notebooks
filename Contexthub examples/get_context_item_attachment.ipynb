{
 "cells": [
  {
   "metadata": {},
   "cell_type": "markdown",
   "source": [
    "# Download TrendMiner Context-Item Attachments\n",
    "\n",
    "The script is designed to automate the retrieval of documents or files attached to specific context items within the TrendMiner platform.  \n",
    "Context items in TrendMiner are annotations or events linked to process data, often enriched with additional information like attachments.  \n",
    "By executing this script, you can programmatically download attachments associated with context items without manually navigating through the TrendMiner interface.  \n",
    "\n",
    "> **Tip:**  \n",
    "> To use this script you will need the **short key** of the context item (for example `386-3` in the screenshot), which appears as the title when you open a context item. You can also inspect the **Attachments** tab to see available attachment names, which you can use in the script.\n",
    "![Context Item Example](https://userguide.trendminer.com/image/uuid-ba68e2ee-97c6-7b28-95b0-a9138c3d6623.png)"
   ],
   "id": "9b400d4d22041a7b"
  },
  {
   "metadata": {},
   "cell_type": "code",
   "outputs": [],
   "execution_count": null,
   "source": [
    "import os\n",
    "import requests\n",
    "from typing import Optional, Dict\n",
    "\n",
    "def get_context_attachments(\n",
    "    key: str,\n",
    "    attachment_name: Optional[str] = None,\n",
    ") -> Dict[str, bytes]:\n",
    "    \"\"\"\n",
    "    Fetch one or all attachments from a TrendMiner context item.\n",
    "\n",
    "    :param key:                  the context-item key (e.g. \"FBC-9C\")\n",
    "    :param attachment_name:      if given, only download that attachment; else download all\n",
    "    :return:                     dict mapping attachment names to raw bytes\n",
    "    :raises FileNotFoundError:   if attachment_name was specified but not found\n",
    "    \"\"\"\n",
    "    # fallback to environment\n",
    "    server = os.getenv(\"KERNEL_SERVER_URL\", \"\").rstrip('/')\n",
    "    bearer = os.getenv(\"KERNEL_USER_TOKEN\", \"\")\n",
    "    if not server or not bearer:\n",
    "        raise ValueError(\"Must provide server_url and token (or set KERNEL_SERVER_URL and KERNEL_USER_TOKEN)\")\n",
    "\n",
    "    sess = requests.Session()\n",
    "    sess.verify = False\n",
    "    sess.headers.update({\"Authorization\": f\"Bearer {bearer}\"})\n",
    "\n",
    "    # 1) get the context‐item metadata\n",
    "    item_resp = sess.get(f\"{server}/context/item/{key}\")\n",
    "    item_resp.raise_for_status()\n",
    "    item = item_resp.json()\n",
    "    context_id = item[\"identifier\"]\n",
    "\n",
    "    # 2) find the attachments link\n",
    "    attachments_url = next(\n",
    "        link[\"href\"] for link in item.get(\"links\", [])\n",
    "        if link.get(\"rel\") == \"attachments\" or \"attachment\" in link.get(\"href\", \"\")\n",
    "    )\n",
    "\n",
    "    # 3) list attachments\n",
    "    list_resp = sess.get(attachments_url)\n",
    "    list_resp.raise_for_status()\n",
    "    attachments = list_resp.json().get(\"content\", [])\n",
    "\n",
    "    results: Dict[str, bytes] = {}\n",
    "    for att in attachments:\n",
    "        name = att[\"name\"]\n",
    "        if attachment_name and name != attachment_name:\n",
    "            continue\n",
    "\n",
    "        att_id = att[\"identifier\"]\n",
    "        dl_resp = sess.get(f\"{server}/context/data/{context_id}/attachments/{att_id}/download\")\n",
    "        dl_resp.raise_for_status()\n",
    "        results[name] = dl_resp.content\n",
    "\n",
    "        if attachment_name:\n",
    "            break\n",
    "\n",
    "    if attachment_name and not results:\n",
    "        raise FileNotFoundError(f\"No attachment named {attachment_name!r} in context item {key!r}\")\n",
    "\n",
    "    return results"
   ],
   "id": "73823b87f6fcadb1"
  },
  {
   "metadata": {},
   "cell_type": "code",
   "outputs": [],
   "execution_count": null,
   "source": [
    "# Fetch all attachments\n",
    "all_atts = get_context_attachments(\"386-3\")\n",
    "print(all_atts)\n",
    "\n",
    "# Fetch just one by name\n",
    "one_att = get_context_attachments(\"FBC-9C\", attachment_name=\"import_name\")\n",
    "print(one_att[\"import-2.0-example\"])"
   ],
   "id": "9e8df0750b7bb7ee"
  }
 ],
 "metadata": {
  "kernelspec": {
   "display_name": "Python 3",
   "language": "python",
   "name": "python3"
  },
  "language_info": {
   "codemirror_mode": {
    "name": "ipython",
    "version": 2
   },
   "file_extension": ".py",
   "mimetype": "text/x-python",
   "name": "python",
   "nbconvert_exporter": "python",
   "pygments_lexer": "ipython2",
   "version": "2.7.6"
  }
 },
 "nbformat": 4,
 "nbformat_minor": 5
}
